{
 "cells": [
  {
   "cell_type": "code",
   "execution_count": 7,
   "metadata": {},
   "outputs": [
    {
     "name": "stdout",
     "output_type": "stream",
     "text": [
      "control gained!\n"
     ]
    }
   ],
   "source": [
    "from stem.control import Controller\n",
    "\n",
    "CONTPORT = 9051\n",
    "CONTPASS= \"password\"\n",
    "\n",
    "controller = Controller.from_port(port=CONTPORT)\n",
    "controller.authenticate(CONTPASS)\n",
    "print(\"control gained!\")"
   ]
  },
  {
   "cell_type": "code",
   "execution_count": 8,
   "metadata": {},
   "outputs": [
    {
     "name": "stdout",
     "output_type": "stream",
     "text": [
      "onion-key\n",
      "-----BEGIN RSA PUBLIC KEY-----\n",
      "MIGJAoGBAMuWiuqLGQAGEengSNLhpmmqWHgLQaGQrEroR27k0dAqDhZOau49xmSU\n",
      "izyJ/pgShjnxdRE2zvH/snik2bm6ykOOx7a1A6BoPOYczv9utIw23CfYBUvzYngU\n",
      "e3kYrM/Yr9r8wlkUqIlKYhy9eM0GODFWlZHj40gyjD1TL22MlHl3AgMBAAE=\n",
      "-----END RSA PUBLIC KEY-----\n",
      "ntor-onion-key IY+YMnE2js9JOBWytuEeUb/2ADzHp4d1XREHXTwox2E\n",
      "p accept 1-65535\n",
      "id ed25519 AFTVu8CSjuZn4W9v5/IpZcLQLI93gYnNHDCsnD9sRuU\n",
      "\n",
      "onion-key\n",
      "-----BEGIN RSA PUBLIC KEY-----\n",
      "MIGJAoGBAMlHhl36sR5H/OSa6m/OOAkQd5zSqcspxQS+nT99ukrWn9zJ8XIgheAa\n",
      "lVQx7Q/zpDic+Vnhis2NeBM9A6xYxKiGu4SoyUZON2Jbv6APEjpfc9Q0ZRtTasjE\n",
      "4/xxW/YLUggUvk2sVYZzsZuAwZ5Zbzl67LV7kpyGqdBoIRMUb2SRAgMBAAE=\n",
      "-----END RSA PUBLIC KEY-----\n",
      "ntor-onion-key xf6+GOHTTJEC9uV7NI3UbJPjhsx0G4C8k5fFC1fRYHM\n",
      "p accept 1-65535\n",
      "id ed25519 ys+3gGVML3z5Q9H1jBz6zb+tfrdfFDUJ0iad/F/6CWk\n",
      "\n",
      "onion-key\n",
      "-----BEGIN RSA PUBLIC KEY-----\n",
      "MIGJAoGBAO/YVg0lN9468+oi06jQUG9aOiBPFM/0EON69D5iCk9pmGYHw7LV2Bo4\n",
      "1/iZg7izdpxGVaiZHoraDWKivPhvFWgeCaHWEcxb3xVS3NYvSDnkAiufOV1eA8Rt\n",
      "c/TPrySEsKiK6ZmR6LbCO1gY8hGwbA5CGRPjVAHs9CteB6MManL3AgMBAAE=\n",
      "-----END RSA PUBLIC KEY-----\n",
      "ntor-onion-key OgeJjrCYqCqo+jpNXo5/maoKu6DQTHnwYFugYzK0Cnw\n",
      "p accept 1-65535\n",
      "id ed25519 fMOrnef2XxArWTnvI3Y8vnmZM2okxBGwF77a2RMQy6s\n",
      "\n",
      "onion-key\n",
      "-----BEGIN RSA PUBLIC KEY-----\n",
      "MIGJAoGBAO8/QpmMvCxx8XJzJ9loOT6W8/EHX+fBs/QDYJCXN90oZHWSorTV0Fpi\n",
      "d5lYo9qeE+8OzPzk8NP5avwPajPg1AjYcSNKiQI9lpOy0sixWsJZlnNYxM4vFnvG\n",
      "GYB9nkeLZf5nE5NNSWuCPl3LoCJ6YzE4YFCItlbaIvn2k7iDFNRrAgMBAAE=\n",
      "-----END RSA PUBLIC KEY-----\n",
      "ntor-onion-key Czp1TQXyILXADZ+zwmP2d8MQTg7tatXaVKV2KqUy5zQ\n",
      "p accept 1-65535\n",
      "id ed25519 XgrYfC747gluAEvxk0IWfiSg+lE8xWXZk4XkLCpWaJs\n",
      "\n",
      "onion-key\n",
      "-----BEGIN RSA PUBLIC KEY-----\n",
      "MIGJAoGBALtQzfHQ0F5Akdxc/fvyokufP6O7Hxq86teyfH4Exq8s4L8WTOdcemle\n",
      "tov1MWIsXYovX2Aw7JNNwiDLEkQYVt2k9nMOpZb6vi5oRhxYI5iNyFyP4W5dzPv8\n",
      "4UA+25FBI9XmqQ4l59Klf3SkHVBVXr9Ga530lMINnxv2lPYApgcvAgMBAAE=\n",
      "-----END RSA PUBLIC KEY-----\n",
      "ntor-onion-key pRkKda7UuakTctYYbrQxD1MboPWLquJMyGEIDl78jXQ\n",
      "p accept 1-65535\n",
      "id ed25519 FANdkesTKKJcb5Qrm1D7rBOYE5h6rDvlw7H4mgxlsx8\n",
      "\n",
      "onion-key\n",
      "-----BEGIN RSA PUBLIC KEY-----\n",
      "MIGJAoGBAPD5VysUSYDqvDvUAwc2touf1HkgL/8+xmF/aTUgRc4ZjWyqlcH8Eqri\n",
      "Fjps4rKWPtJmAvsWthr++whmu2MQGVllnDp4FHLC79reyzSgrd0dziR0RtQwO/wl\n",
      "t1FGxfuBby4Q0yQ0jqopLwbEPPpSymJpM7eX+5OOswmKKJu68aBfAgMBAAE=\n",
      "-----END RSA PUBLIC KEY-----\n",
      "ntor-onion-key 0nwSwGg3qmZqFYRdvom5AnpLqGr9NJkiasNC+bGcHDw\n",
      "p accept 1-65535\n",
      "id ed25519 QQxZGudoZFZd91WsB9e3Xj4ulKhuE5cd2ox0v4IrfgI\n",
      "\n",
      "onion-key\n",
      "-----BEGIN RSA PUBLIC KEY-----\n",
      "MIGJAoGBAPRYJnZKUYsCdPTkjU03PNHN7LAljt4NZGE0cHT4oIo0brLu/IPDNXet\n",
      "1hYFYtbIcdMNmzpzwPlY+qJSPf/5fVTHjTUDF+orhWaNV0l9v1zwKCgTxhBiXikI\n",
      "SvGBAnQHNNqL31PIehaShiyv8sVfTygskR0O8qSdTTJgsWXB88FVAgMBAAE=\n",
      "-----END RSA PUBLIC KEY-----\n",
      "ntor-onion-key j8afUMdS0car4O6rHizOyTyJXvxsWzJFg4OyFST452c\n",
      "p accept 1-65535\n",
      "id ed25519 lNUtVKuj1qgR3mJs/6BKZ0AzYIcUBHxkTYjVZmSVNS4\n",
      "\n",
      "onion-key\n",
      "-----BEGIN RSA PUBLIC KEY-----\n",
      "MIGJAoGBAN0Zdz6dgll/g1Fu/E1pHPggXRdCUf3o5cz6ENTSnGfSvo6OPEcpRMQJ\n",
      "dFMJ+e0dOyEP6mT1RxM1h4bjzBdEwnxoi4awH+aRUlFYw8MgaUEjVN3SwgyhAfjn\n",
      "EnNZ2Nbc2wKDgIBolFSF6O+Y18fxhiv1bN/FK6MZB9N0WqX5Q9cZAgMBAAE=\n",
      "-----END RSA PUBLIC KEY-----\n",
      "ntor-onion-key 090/5RHAhPp+N5GvBaThryFvsNpv4FIKsoHeIGmH1lk\n",
      "p accept 1-65535\n",
      "id ed25519 H6NZ8UL9lved2AGoCTBlrupp6mUxNXK+a2DHtKPgcJk\n"
     ]
    }
   ],
   "source": [
    "microDes = controller.get_microdescriptors()\n",
    "#how does tor client know relay does not accept dedicated ip:port\n",
    "for des in microDes:\n",
    "    print(des)"
   ]
  },
  {
   "cell_type": "code",
   "execution_count": 9,
   "metadata": {},
   "outputs": [
    {
     "name": "stdout",
     "output_type": "stream",
     "text": [
      "reject *:25, reject *:119, reject *:135-139, reject *:445, reject *:563, reject *:1214, reject *:4661-4666, reject *:6346-6429, reject *:6699, reject *:6881-6999, accept *:*\n"
     ]
    }
   ],
   "source": [
    "exit_policy = controller.get_exit_policy()\n",
    "print(exit_policy)"
   ]
  },
  {
   "cell_type": "code",
   "execution_count": 10,
   "metadata": {},
   "outputs": [
    {
     "name": "stdout",
     "output_type": "stream",
     "text": [
      "r EXITmaphizeiwi GuYMDOJPLo95NwF2yc6fgZ9KRQw FUeYbwvaslyZPmNo1D+gNPE9X88 2022-11-29 12:19:02 192.168.8.6 7000 0\n",
      "s Exit Fast Guard HSDir Running Stable V2Dir Valid\n",
      "w Bandwidth=0\n",
      "\n",
      "r EXITeiquiebupo RIwwsNoPW28TO7zCEvTf5Vc/PME aRnjTFht1Wjk9yO+uk1dHeoEnSA 2022-11-29 12:19:03 192.168.8.8 7000 0\n",
      "s Exit Fast Guard HSDir Running V2Dir Valid\n",
      "w Bandwidth=0\n",
      "\n",
      "r DAjairielool ROYRZv5RzdT9K2EUeObPJT/rV8o xeoeMW7a2g5oIgQnl7i/Fd0KV7E 2022-11-29 12:19:04 192.168.8.4 7000 9030\n",
      "s Authority Exit Fast Guard HSDir Running Stable V2Dir Valid\n",
      "w Bandwidth=6\n",
      "\n",
      "r DAiephahjagh VHtiGgj+9L1KJxfc1aeU65sSlQg nIpyoq1vwzbqmUmKbUEXqJZ3E58 2022-11-29 12:18:06 192.168.8.3 7000 9030\n",
      "s Authority Exit Fast Guard HSDir Running Stable V2Dir Valid\n",
      "w Bandwidth=3\n",
      "\n",
      "r EXITphoumahbue VyVi2Bwnefsf+6BiK1J/D+sdzu8 q1t1gTEE+g54qMW+VI/aQJlrXSE 2022-11-29 12:19:03 192.168.8.5 7000 0\n",
      "s Exit Fast Guard HSDir Running V2Dir Valid\n",
      "w Bandwidth=0\n",
      "\n",
      "r EXITqueeshohdu YYNNgXj9czdUkOeBgvv+Eho9wUg PJbbGtziH6NCNkszdbhAsrl2/n4 2022-11-29 12:19:03 192.168.8.7 7000 0\n",
      "s Exit Fast Guard HSDir Running V2Dir Valid\n",
      "w Bandwidth=0\n",
      "\n",
      "r EXITeighemaese YcHYYiUvlXtt7Z14IVQlCNRHTu0 AO9Bh15yyknYtKTIUzDwZmiVQG8 2022-11-29 12:19:02 192.168.8.9 7000 0\n",
      "s Exit Fast Guard HSDir Running Stable V2Dir Valid\n",
      "w Bandwidth=0\n",
      "\n",
      "r DAibahroomee iRmQt08GicDnOqz/dDH5/TFSTq0 m2tVHcVx0vcMk4mZZz3JNVW09sM 2022-11-29 12:18:05 192.168.8.2 7000 9030\n",
      "s Authority Exit Fast Guard HSDir Running Stable V2Dir Valid\n",
      "w Bandwidth=3\n"
     ]
    }
   ],
   "source": [
    "network_status = controller.get_network_statuses()\n",
    "for status in network_status:\n",
    "    print(status)"
   ]
  }
 ],
 "metadata": {
  "kernelspec": {
   "display_name": "Python 3.8.10 64-bit",
   "language": "python",
   "name": "python3"
  },
  "language_info": {
   "codemirror_mode": {
    "name": "ipython",
    "version": 3
   },
   "file_extension": ".py",
   "mimetype": "text/x-python",
   "name": "python",
   "nbconvert_exporter": "python",
   "pygments_lexer": "ipython3",
   "version": "3.8.10"
  },
  "orig_nbformat": 4,
  "vscode": {
   "interpreter": {
    "hash": "e7370f93d1d0cde622a1f8e1c04877d8463912d04d973331ad4851f04de6915a"
   }
  }
 },
 "nbformat": 4,
 "nbformat_minor": 2
}
